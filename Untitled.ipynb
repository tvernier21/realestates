{
 "cells": [
  {
   "cell_type": "code",
   "execution_count": 10,
   "metadata": {},
   "outputs": [],
   "source": [
    "import numpy as np\n",
    "import pandas as pd\n",
    "import time\n",
    "\n",
    "from bs4 import BeautifulSoup\n",
    "import requests\n",
    "\n",
    "from selenium import webdriver\n",
    "from selenium.webdriver.chrome.options import Options\n",
    "from selenium.webdriver.common.keys import Keys\n",
    "import random\n",
    "\n",
    "headers = {\n",
    "    'accept': 'text/html,application/xhtml+xml,application/xml;q=0.9,image/avif,image/webp,image/apng,*/*;q=0.8,application/signed-exchange;v=b3;q=0.9',\n",
    "    'accept-encoding': 'gzip, deflate, br',\n",
    "    'accept-language': 'en-US,en;q=0.9',\n",
    "    'cache-control': 'max-age=0',\n",
    "    'cookie': 'zguid=23|%241635c987-62d9-4e80-a6c9-ea938b8b3fb4; _ga=GA1.2.1480747684.1619032992; zjs_user_id=null; _pxvid=049057a9-a2d7-11eb-853c-0242ac120003; G_ENABLED_IDPS=google; _gcl_au=1.1.895813605.1619032994; __pdst=9211672fabff4dbe986acff7b14ecd27; _pin_unauth=dWlkPU1qVTJaVGN3WXpJdFlXRXhNeTAwWWpneExXRXlOMkV0TnpObU0yWTVOakJtTURBMg; zgsession=1|869e678d-3eca-4005-b671-86107f0dc004; DoubleClickSession=true; g_state={\"i_p\":1624129557564,\"i_l\":1}; _gid=GA1.2.807621949.1624213643; KruxPixel=true; _derived_epik=dj0yJnU9c2xEMG0yRTlCRzVRRFZqZnFBYnlTcFFIRUZobmJxVFQmbj1OdExiTGZORmRoaGhNOUIydkVsUFdRJm09MSZ0PUFBQUFBR0RQaUk4JnJtPTEmcnQ9QUFBQUFHRFBpSTg; utag_main=v_id:017a168660a6001e81ca8bd71be903079001d07100bd0$_sn:4$_se:1$_ss:1$_st:1624215444550$dc_visit:3$ses_id:1624213644550%3Bexp-session$_pn:1%3Bexp-session$dcsyncran:1%3Bexp-session$tdsyncran:1%3Bexp-session$dc_event:1%3Bexp-session$dc_region:us-east-1%3Bexp-session$ttd_uuid:39e3cfc5-6847-4e1d-abdc-d279ea1c4cd3%3Bexp-session; KruxAddition=true; JSESSIONID=EEF7D7FA4A9D2A751F74B355253CFBC5; zjs_anonymous_id=%221635c987-62d9-4e80-a6c9-ea938b8b3fb4%22; _px3=b762fb510221b6568d6b5bfb3d6193e1cef6bb95c5d009b08ba6f24d5c528314:hwuglDk1G/iyu4nklJScHDbQGN0lQ4EaIMxaglnBeDqufbKwEnrFiikFjdIPMnbeTKpg8x8HUMhs/2KwWOSYNg==:1000:TtSLx5G87XwSHHP1xEO4Nm3RNjwgIZMuxYI0+jPsdYr8VFMKnBPs1ZgJJ8uuKGpoTtsWLQ21+TA+TtzLqK/239MO7sEUDSbdQB8YY25DBxB5Cd+m0mkYpLjMWY8jCQzyoG5PfZYPdiLxEWplUMvjbq6FCscDuuK2h0igrxOxEfW7+f65oMDFZo714jQQMvjU9kY3xcylSnzkQ651kwtCGw==; _uetsid=28abf030d1f511eb9e805d602582bcb1; _uetvid=04643fd0cee111eb81cf21220133ab3b; _gat=1; AWSALB=FM6KBaRS63y6XvtIqJYkcmd6QCcLExncOXKINZQAp2adBLRzGVlzlB8b+rNFfsVptbhvwQpaNUmqlJ56BpREkaEIPy/WH0J6QS7T/sIsxGyUOXeTTjlegZsoyHu1; AWSALBCORS=FM6KBaRS63y6XvtIqJYkcmd6QCcLExncOXKINZQAp2adBLRzGVlzlB8b+rNFfsVptbhvwQpaNUmqlJ56BpREkaEIPy/WH0J6QS7T/sIsxGyUOXeTTjlegZsoyHu1; search=6|1626806869121%7Crect%3D40.08586805778981%252C-75.16407500708007%252C39.980982284475296%252C-75.41985045874023%26rid%3D398868%26disp%3Dmap%26mdm%3Dauto%26p%3D1%26z%3D1%26pt%3Dpmf%252Cpf%26fs%3D1%26fr%3D0%26mmm%3D1%26rs%3D0%26ah%3D0%26singlestory%3D0%26housing-connector%3D0%26abo%3D0%26garage%3D0%26pool%3D0%26ac%3D0%26waterfront%3D0%26finished%3D0%26unfinished%3D0%26cityview%3D0%26mountainview%3D0%26parkview%3D0%26waterview%3D0%26hoadata%3D1%26zillow-owned%3D0%263dhome%3D0%26featuredMultiFamilyBuilding%3D0%09%09398868%09%09%09%09%09%09',\n",
    "    'sec-fetch-dest': 'document',\n",
    "    'sec-fetch-mode': 'navigate',\n",
    "    'sec-fetch-site': 'same-origin',\n",
    "    'sec-fetch-user': '?1',\n",
    "    'upgrade-insecure-requests': '1',\n",
    "    'user-agent': 'Mozilla/5.0 (Macintosh; Intel Mac OS X 10_15_7) AppleWebKit/537.36 (KHTML, like Gecko) Chrome/91.0.4472.106 Safari/537.36'\n",
    "}\n",
    "\n",
    "URL = \"https://www.zillow.com/homes/19066/\""
   ]
  },
  {
   "cell_type": "code",
   "execution_count": 11,
   "metadata": {},
   "outputs": [],
   "source": [
    "def parse(listings):\n",
    "    all_houses = []\n",
    "    for i, house in enumerate(listings):\n",
    "        print()\n",
    "        try:\n",
    "            house_info = house.find('div', {'class': 'list-card-info'})\n",
    "            url = house.a['href']\n",
    "            address = house.a.address.text\n",
    "            street, city, statezip = address.split(\",\")\n",
    "            state, zipcode = statezip.split()\n",
    "\n",
    "            house_info = house_info.find('div', {'class': 'list-card-heading'})\n",
    "            price = house_info.div.text\n",
    "            bds, ba, sqft = house_info.find_all('li')[:3]\n",
    "\n",
    "            # insert into dataframe\n",
    "            house_data = {\"url\": url,\n",
    "                          \"street\": street,\n",
    "                          \"city\": city,\n",
    "                          \"state\": state,\n",
    "                          \"zip\": zipcode,\n",
    "                          \"bds\": int(bds.text.split()[0].strip()),\n",
    "                          \"ba\": int(ba.text.split()[0].strip()),\n",
    "                          \"sqft\": int(sqft.text.split()[0].strip().replace(',','')),\n",
    "                          \"price\": int(price[1:].replace(',',''))}\n",
    "            all_houses.append(house_data)\n",
    "            print(\"Success -----\", i+1)\n",
    "        except:\n",
    "            print(\"Failed ------\", i+1)\n",
    "            print(house)\n",
    "\n",
    "    return all_houses"
   ]
  },
  {
   "cell_type": "code",
   "execution_count": 13,
   "metadata": {},
   "outputs": [
    {
     "name": "stdout",
     "output_type": "stream",
     "text": [
      "\n",
      "Success ----- 1\n",
      "\n",
      "Success ----- 2\n",
      "\n",
      "Success ----- 3\n"
     ]
    }
   ],
   "source": [
    "options = webdriver.ChromeOptions()\n",
    "options.add_argument('window-size=700,1000')\n",
    "driver = webdriver.Chrome('/Users/thibaultvernier/dev/chromedriver', options=options)\n",
    "\n",
    "page = 1\n",
    "total_pages = page\n",
    "all_houses = []\n",
    "while page <= total_pages:\n",
    "    url = URL + f\"/{page}_p\"\n",
    "    driver.get(url)# set browser to use this page\n",
    "    time.sleep(3) # let the scripts load\n",
    "\n",
    "    elem = driver.find_element_by_tag_name(\"body\")\n",
    "\n",
    "    no_of_pagedowns = 7\n",
    "\n",
    "    while no_of_pagedowns:\n",
    "        elem.send_keys(Keys.PAGE_DOWN)\n",
    "        time.sleep(random.randint(1,2))\n",
    "        no_of_pagedowns-=1\n",
    "\n",
    "    html = driver.page_source\n",
    "    # driver.quit()\n",
    "\n",
    "    content = BeautifulSoup(html, 'lxml')\n",
    "    \n",
    "    if page == 1:\n",
    "        try:\n",
    "            total_pages = int(content.find('span', {\"class\": \"Text-c11n-8-37-0__aiai24-0 eBcXID\"}).text.split()[-1])\n",
    "        except:\n",
    "            pass\n",
    "    \n",
    "    house_list = content.find('ul', {'class': 'photo-cards photo-cards_wow photo-cards_short photo-cards_extra-attribution'})\n",
    "    listings = house_list.find_all('article', {'class': 'list-card list-card-additional-attribution list-card-additional-attribution-space list-card_not-saved'})\n",
    "    all_houses.extend(parse(listings))\n",
    "    page += 1\n",
    "\n",
    "driver.quit()\n",
    "df = pd.DataFrame(all_houses)\n",
    "from pathlib import Path\n",
    "\n",
    "FILENAME = 'data/PA_houses.csv'\n",
    "my_file = Path(FILENAME)\n",
    "if my_file.is_file():\n",
    "    old_df = pd.read_csv(FILENAME)\n",
    "    new_df = pd.concat([old_df, df])\n",
    "    new_df.to_csv(FILENAME, index=False)\n",
    "else:\n",
    "    df.to_csv(FILENAME, index=False)\n"
   ]
  },
  {
   "cell_type": "code",
   "execution_count": null,
   "metadata": {},
   "outputs": [],
   "source": [
    "page = x = 1\n",
    "print(x)"
   ]
  },
  {
   "cell_type": "code",
   "execution_count": null,
   "metadata": {},
   "outputs": [],
   "source": [
    "new_df"
   ]
  },
  {
   "cell_type": "code",
   "execution_count": null,
   "metadata": {},
   "outputs": [],
   "source": [
    "old_df = pd.read_csv('data/lowermeriontownship.csv')\n",
    "new_df = pd.concat([old_df, df])\n",
    "new_df.to_csv('data/PA_houses.csv', index=False)"
   ]
  },
  {
   "cell_type": "code",
   "execution_count": null,
   "metadata": {},
   "outputs": [],
   "source": [
    "df"
   ]
  },
  {
   "cell_type": "code",
   "execution_count": 14,
   "metadata": {},
   "outputs": [],
   "source": [
    "zips = pd.read_csv('data/philly_zipcodes.csv')"
   ]
  },
  {
   "cell_type": "code",
   "execution_count": 19,
   "metadata": {},
   "outputs": [
    {
     "data": {
      "text/plain": [
       "[19120,\n",
       " 19121,\n",
       " 19122,\n",
       " 19123,\n",
       " 19124,\n",
       " 19125,\n",
       " 19126,\n",
       " 19127,\n",
       " 19128,\n",
       " 19102,\n",
       " 19103,\n",
       " 19104,\n",
       " 19106,\n",
       " 19107,\n",
       " 19109,\n",
       " 19111,\n",
       " 19112,\n",
       " 19114,\n",
       " 19115,\n",
       " 19116,\n",
       " 19118,\n",
       " 19119,\n",
       " 19149,\n",
       " 19150,\n",
       " 19151,\n",
       " 19152,\n",
       " 19153,\n",
       " 19154,\n",
       " 19129,\n",
       " 19130,\n",
       " 19131,\n",
       " 19132,\n",
       " 19133,\n",
       " 19134,\n",
       " 19135,\n",
       " 19136,\n",
       " 19137,\n",
       " 19138,\n",
       " 19139,\n",
       " 19140,\n",
       " 19141,\n",
       " 19142,\n",
       " 19143,\n",
       " 19144,\n",
       " 19145,\n",
       " 19146,\n",
       " 19147,\n",
       " 19148]"
      ]
     },
     "execution_count": 19,
     "metadata": {},
     "output_type": "execute_result"
    }
   ],
   "source": [
    "list(zips.CODE.values)"
   ]
  },
  {
   "cell_type": "code",
   "execution_count": null,
   "metadata": {},
   "outputs": [],
   "source": []
  },
  {
   "cell_type": "code",
   "execution_count": null,
   "metadata": {},
   "outputs": [],
   "source": []
  },
  {
   "cell_type": "code",
   "execution_count": null,
   "metadata": {},
   "outputs": [],
   "source": []
  }
 ],
 "metadata": {
  "kernelspec": {
   "display_name": "Python 3",
   "language": "python",
   "name": "python3"
  },
  "language_info": {
   "codemirror_mode": {
    "name": "ipython",
    "version": 3
   },
   "file_extension": ".py",
   "mimetype": "text/x-python",
   "name": "python",
   "nbconvert_exporter": "python",
   "pygments_lexer": "ipython3",
   "version": "3.8.5"
  }
 },
 "nbformat": 4,
 "nbformat_minor": 4
}
